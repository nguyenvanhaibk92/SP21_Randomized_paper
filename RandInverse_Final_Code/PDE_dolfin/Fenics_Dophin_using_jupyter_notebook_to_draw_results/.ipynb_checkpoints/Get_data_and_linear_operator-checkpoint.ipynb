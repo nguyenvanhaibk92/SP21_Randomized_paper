{
 "cells": [
  {
   "cell_type": "code",
   "execution_count": null,
   "id": "b7a33643",
   "metadata": {},
   "outputs": [],
   "source": [
    "import dolfin as dl\n",
    "import scipy.io as sp\n",
    "import numpy as np\n",
    "import ufl\n",
    "import math\n",
    "import numpy as np\n",
    "import matplotlib.pyplot as plt\n",
    "%matplotlib inline\n",
    "import mat4py as m4p\n",
    "import sys\n",
    "import os\n",
    "sys.path.append( os.environ.get('HIPPYLIB_BASE_DIR', \"../\") )\n",
    "from hippylib import *\n",
    "sys.path.append( os.environ.get('HIPPYLIB_BASE_DIR', \"..\") + \"/applications/ad_diff/\" )\n",
    "from model_ad_diff import TimeDependentAD, SpaceTimePointwiseStateObservation\n",
    "\n",
    "import logging\n",
    "logging.getLogger('FFC').setLevel(logging.WARNING)\n",
    "logging.getLogger('UFL').setLevel(logging.WARNING)\n",
    "dl.set_log_active(False)"
   ]
  },
  {
   "cell_type": "code",
   "execution_count": null,
   "id": "e1d480aa",
   "metadata": {},
   "outputs": [],
   "source": [
    "def v_boundary(x,on_boundary):\n",
    "    return on_boundary\n",
    "\n",
    "def q_boundary(x,on_boundary):\n",
    "    return x[0] < dl.DOLFIN_EPS and x[1] < dl.DOLFIN_EPS\n",
    "        \n",
    "def computeVelocityField(mesh):\n",
    "    Xh = dl.VectorFunctionSpace(mesh,'Lagrange', 2)\n",
    "    Wh = dl.FunctionSpace(mesh, 'Lagrange', 1)\n",
    "    mixed_element = ufl.MixedElement([Xh.ufl_element(), Wh.ufl_element()])\n",
    "    XW = dl.FunctionSpace(mesh, mixed_element)\n",
    "\n",
    "    Re = dl.Constant(1e2)\n",
    "    \n",
    "    g = dl.Expression(('0.0','(x[0] < 1e-14) - (x[0] > 1 - 1e-14)'), degree=1)\n",
    "    bc1 = dl.DirichletBC(XW.sub(0), g, v_boundary)\n",
    "    bc2 = dl.DirichletBC(XW.sub(1), dl.Constant(0), q_boundary, 'pointwise')\n",
    "    bcs = [bc1, bc2]\n",
    "    \n",
    "    vq = dl.Function(XW)\n",
    "    (v,q) = ufl.split(vq)\n",
    "    (v_test, q_test) = dl.TestFunctions (XW)\n",
    "    \n",
    "    def strain(v):\n",
    "        return ufl.sym(ufl.grad(v))\n",
    "    \n",
    "    F = ( (2./Re)*ufl.inner(strain(v),strain(v_test))+ ufl.inner (ufl.nabla_grad(v)*v, v_test)\n",
    "           - (q * ufl.div(v_test)) + ( ufl.div(v) * q_test) ) * ufl.dx\n",
    "           \n",
    "    dl.solve(F == 0, vq, bcs, solver_parameters={\"newton_solver\":\n",
    "                                         {\"relative_tolerance\":1e-4, \"maximum_iterations\":100}})\n",
    "    \n",
    "    plt.figure(figsize=(15,5))\n",
    "    vh = dl.project(v,Xh)\n",
    "    qh = dl.project(q,Wh)\n",
    "    nb.plot(nb.coarsen_v(vh), subplot_loc=121,mytitle=\"Velocity\")\n",
    "    nb.plot(qh, subplot_loc=122,mytitle=\"Pressure\")\n",
    "    plt.show()\n",
    "        \n",
    "    return v"
   ]
  },
  {
   "cell_type": "code",
   "execution_count": null,
   "id": "26214fdb",
   "metadata": {},
   "outputs": [],
   "source": [
    "mesh = dl.refine( dl.Mesh(\"ad_20.xml\") )\n",
    "wind_velocity = computeVelocityField(mesh)\n",
    "Vh = dl.FunctionSpace(mesh, \"Lagrange\", 1)\n",
    "print( \"Number of dofs: {0}\".format( Vh.dim() ) )"
   ]
  },
  {
   "cell_type": "code",
   "execution_count": null,
   "id": "fadebc7e",
   "metadata": {},
   "outputs": [],
   "source": [
    "# STORE MESHPOINTS AS MATLAB FILE\n",
    "\n",
    "r=mesh.coordinates()\n",
    "bx=r[:,0]\n",
    "by=r[:,1]\n",
    "bx=list(bx)\n",
    "by=list(by)\n",
    "data_x = {'x': bx}\n",
    "data_y = {'x': by}\n",
    "m4p.savemat('datafile_new_x.mat', data_x)\n",
    "m4p.savemat('datafile_new_y.mat', data_y)"
   ]
  },
  {
   "cell_type": "code",
   "execution_count": null,
   "id": "ccd44401",
   "metadata": {},
   "outputs": [],
   "source": [
    "ic_expr = dl.Expression(\n",
    "    'std::min(0.5,std::exp(-100*(std::pow(x[0]-0.35,2) +  std::pow(x[1]-0.7,2))))',\n",
    "    element=Vh.ufl_element())\n",
    "true_initial_condition = dl.interpolate(ic_expr, Vh).vector()\n",
    "gamma = 1.\n",
    "delta = 8.\n",
    "prior = BiLaplacianPrior(Vh, gamma, delta, robin_bc=True)\n",
    "\n",
    "prior.mean = dl.interpolate(dl.Constant(0.25), Vh).vector()\n",
    "    \n",
    "t_init         = 0.\n",
    "t_final        = 4.\n",
    "t_1            = 1.\n",
    "dt             = .1\n",
    "observation_dt = .2\n",
    "    \n",
    "simulation_times = np.arange(t_init, t_final+.5*dt, dt)\n",
    "observation_times = np.arange(t_1, t_final+.5*dt, observation_dt)\n",
    "    \n",
    "targets = np.loadtxt('targets.txt')\n",
    "print (\"Number of observation points: {0}\".format(targets.shape[0]) )\n",
    "misfit = SpaceTimePointwiseStateObservation(Vh, observation_times, targets)\n",
    "\n",
    "problem = TimeDependentAD(mesh, [Vh,Vh,Vh], prior, misfit, simulation_times, wind_velocity, True)\n",
    "\n",
    "objs = [dl.Function(Vh,true_initial_condition),\n",
    "        dl.Function(Vh,prior.mean)]\n",
    "mytitles = [\"True Initial Condition\", \"Prior mean\"]\n",
    "nb.multi1_plot(objs, mytitles)\n",
    "plt.show()"
   ]
  },
  {
   "cell_type": "code",
   "execution_count": null,
   "id": "37385b93",
   "metadata": {},
   "outputs": [],
   "source": [
    "# FORM THE LINEAR OPERATOR THAT MAPS INITIAL DATA TO THE SOLUTION AT THE FINAL TIME\n",
    "\n",
    "length=len(true_initial_condition.get_local())\n",
    "A=np.zeros((length,length))\n",
    "\n",
    "for i in range(0,length):\n",
    "    new=0*true_initial_condition\n",
    "    new[i]=1\n",
    "    utrue = problem.generate_vector(STATE)\n",
    "    x = [utrue, new, None]\n",
    "    problem.solveFwd(x[STATE], x)\n",
    "    \n",
    "    \n",
    "    val=np.array(utrue.data)\n",
    "    final_solution=val[40]\n",
    "    A[:,i]=final_solution"
   ]
  },
  {
   "cell_type": "code",
   "execution_count": null,
   "id": "622164d6",
   "metadata": {},
   "outputs": [],
   "source": [
    "# STORE THE GENERATED LINEAR OPERATOR AS MAT FILE\n",
    "savedict = {\n",
    "    'A' : A\n",
    "}\n",
    "sp.savemat('TRIAL.mat', savedict)"
   ]
  },
  {
   "cell_type": "code",
   "execution_count": null,
   "id": "f10cfcb0",
   "metadata": {},
   "outputs": [],
   "source": [
    "# STORING TRUE INITIAL CONDITION  as .mat file\n",
    "\n",
    "a=true_initial_condition\n",
    "b=a.get_local()\n",
    "b=list(b)\n",
    "data = {'x': b}\n",
    "m4p.savemat('initial_condition.mat', data)\n"
   ]
  },
  {
   "cell_type": "code",
   "execution_count": null,
   "id": "da769c1e",
   "metadata": {},
   "outputs": [],
   "source": [
    "# Storing observation data at final time\n",
    "\n",
    "utrue = problem.generate_vector(STATE)\n",
    "x = [utrue, true_initial_condition, None]\n",
    "problem.solveFwd(x[STATE], x)\n",
    "\n",
    "val=np.array(utrue.data)\n",
    "final_solution=val[40]\n",
    "data_final_solution = {'x': final_solution}\n",
    "m4p.savemat('observation.mat', data_final_solution)"
   ]
  }
 ],
 "metadata": {
  "kernelspec": {
   "display_name": "Python 3",
   "language": "python",
   "name": "python3"
  },
  "language_info": {
   "codemirror_mode": {
    "name": "ipython",
    "version": 3
   },
   "file_extension": ".py",
   "mimetype": "text/x-python",
   "name": "python",
   "nbconvert_exporter": "python",
   "pygments_lexer": "ipython3",
   "version": "3.8.8"
  }
 },
 "nbformat": 4,
 "nbformat_minor": 5
}
