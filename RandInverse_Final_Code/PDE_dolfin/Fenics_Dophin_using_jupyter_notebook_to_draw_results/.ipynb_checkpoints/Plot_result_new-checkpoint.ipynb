{
 "cells": [
  {
   "cell_type": "code",
   "execution_count": 4,
   "id": "8471aaaf",
   "metadata": {},
   "outputs": [],
   "source": [
    "import dolfin as dl\n",
    "import scipy.io as sp\n",
    "import numpy as np\n",
    "import ufl\n",
    "import math\n",
    "from mshr import *\n",
    "from dolfin import *\n",
    "from dolfin.cpp.mesh import *\n",
    "import numpy as np\n",
    "import matplotlib.pyplot as plt\n",
    "%matplotlib inline\n",
    "from mat4py import loadmat\n",
    "import mat4py as m4p\n",
    "import sys\n",
    "import os\n",
    "sys.path.append( os.environ.get('HIPPYLIB_BASE_DIR', \"../\") )\n",
    "from hippylib import *\n",
    "sys.path.append( os.environ.get('HIPPYLIB_BASE_DIR', \"..\") + \"/applications/ad_diff/\" )\n",
    "from model_ad_diff import TimeDependentAD, SpaceTimePointwiseStateObservation\n",
    "\n",
    "import logging\n",
    "logging.getLogger('FFC').setLevel(logging.WARNING)\n",
    "logging.getLogger('UFL').setLevel(logging.WARNING)\n",
    "dl.set_log_active(False)"
   ]
  },
  {
   "cell_type": "code",
   "execution_count": 14,
   "id": "a4a3c4c5",
   "metadata": {},
   "outputs": [],
   "source": [
    "#LOADING THE .MAT FILE CONTAINING THE RESULT\n",
    "\n",
    "\n",
    "#result_predicted = loadmat('INITIAL_CONDITION_PREDICTED.mat') #PREDICTED BY RANDOMIZED METHOD\n",
    "result_original= loadmat('INITIAL_CONDITION_ORIGINAL.mat')    # ORIGINAL TRUE SOLUTION\n",
    "result_MAP= loadmat('INITIAL_CONDITION_MAP_u1.mat')              # MAP SOLUTION\n",
    "\n",
    "#y_predicted=np.array(list(result_predicted.values()))[-1].squeeze(-1)\n",
    "\n",
    "y_original=np.array(list(result_original.values()))[-1].squeeze(-1)\n",
    "\n",
    "y_MAP=np.array(list(result_MAP.values()))[-1].squeeze(-1)\n"
   ]
  },
  {
   "cell_type": "code",
   "execution_count": null,
   "id": "95b782df",
   "metadata": {},
   "outputs": [],
   "source": []
  },
  {
   "cell_type": "code",
   "execution_count": 15,
   "id": "1a064285",
   "metadata": {},
   "outputs": [
    {
     "name": "stdout",
     "output_type": "stream",
     "text": [
      "Number of dofs: 8794\n"
     ]
    }
   ],
   "source": [
    "nx = ny = 10\n",
    "\n",
    "center=Point(0.71,0.71)\n",
    "horizontal_semi_axis=0.12\n",
    "vertical_semi_axis=0.09\n",
    "\n",
    "center_new=Point(0.71,0.25)\n",
    "horizontal_semi_axis_new=0.12\n",
    "vertical_semi_axis_new=0.07\n",
    "\n",
    "\n",
    "geometry=Rectangle(dl.Point(0.0, 0.0), dl.Point(1, 1)) -  Circle(dl.Point(0.25, 0.25), 0.15)-  Ellipse(center,horizontal_semi_axis,vertical_semi_axis)-  Ellipse(center_new,horizontal_semi_axis_new,vertical_semi_axis_new)\n",
    "#geometry=Rectangle(dl.Point(0.0, 0.0), dl.Point(1, 1))\n",
    "mesh = dl.refine(generate_mesh(geometry,40))\n",
    "\n",
    "\n",
    "Vh = dl.FunctionSpace(mesh, \"Lagrange\", 1)\n",
    "print( \"Number of dofs: {0}\".format( Vh.dim() ) )"
   ]
  },
  {
   "cell_type": "code",
   "execution_count": null,
   "id": "8b7a748c",
   "metadata": {},
   "outputs": [],
   "source": []
  },
  {
   "cell_type": "code",
   "execution_count": 17,
   "id": "10793ef0",
   "metadata": {},
   "outputs": [
    {
     "ename": "IndexError",
     "evalue": "index 8790 is out of bounds for axis 0 with size 8790",
     "output_type": "error",
     "traceback": [
      "\u001b[0;31m---------------------------------------------------------------------------\u001b[0m",
      "\u001b[0;31mIndexError\u001b[0m                                Traceback (most recent call last)",
      "\u001b[0;32m<ipython-input-17-7916b62b1927>\u001b[0m in \u001b[0;36m<module>\u001b[0;34m\u001b[0m\n\u001b[1;32m     17\u001b[0m \u001b[0;32mfor\u001b[0m \u001b[0mi\u001b[0m \u001b[0;32min\u001b[0m \u001b[0mrange\u001b[0m\u001b[0;34m(\u001b[0m\u001b[0;36m0\u001b[0m\u001b[0;34m,\u001b[0m\u001b[0mlen\u001b[0m\u001b[0;34m(\u001b[0m\u001b[0mtrue_initial_condition\u001b[0m\u001b[0;34m)\u001b[0m\u001b[0;34m)\u001b[0m\u001b[0;34m:\u001b[0m\u001b[0;34m\u001b[0m\u001b[0;34m\u001b[0m\u001b[0m\n\u001b[1;32m     18\u001b[0m  \u001b[0;31m#   true_initial_condition_predicted[i]= y_predicted[i]\u001b[0m\u001b[0;34m\u001b[0m\u001b[0;34m\u001b[0m\u001b[0;34m\u001b[0m\u001b[0m\n\u001b[0;32m---> 19\u001b[0;31m     \u001b[0mtrue_initial_condition_original\u001b[0m\u001b[0;34m[\u001b[0m\u001b[0mi\u001b[0m\u001b[0;34m]\u001b[0m\u001b[0;34m=\u001b[0m\u001b[0my_original\u001b[0m\u001b[0;34m[\u001b[0m\u001b[0mi\u001b[0m\u001b[0;34m]\u001b[0m\u001b[0;34m\u001b[0m\u001b[0;34m\u001b[0m\u001b[0m\n\u001b[0m\u001b[1;32m     20\u001b[0m     \u001b[0mtrue_initial_condition_MAP\u001b[0m\u001b[0;34m[\u001b[0m\u001b[0mi\u001b[0m\u001b[0;34m]\u001b[0m\u001b[0;34m=\u001b[0m\u001b[0my_MAP\u001b[0m\u001b[0;34m[\u001b[0m\u001b[0mi\u001b[0m\u001b[0;34m]\u001b[0m\u001b[0;34m\u001b[0m\u001b[0;34m\u001b[0m\u001b[0m\n\u001b[1;32m     21\u001b[0m \u001b[0;34m\u001b[0m\u001b[0m\n",
      "\u001b[0;31mIndexError\u001b[0m: index 8790 is out of bounds for axis 0 with size 8790"
     ]
    }
   ],
   "source": [
    "#PLOTTING THE RESULTS OF RANDOMIZED VS MAP SOLUTION\n",
    "\n",
    "ic_expr = dl.Expression(\n",
    "    'std::min(0.5,std::exp(-100*(std::pow(x[0]-0.35,2) +  std::pow(x[1]-0.7,2))))',\n",
    "    element=Vh.ufl_element())\n",
    "true_initial_condition = dl.interpolate(ic_expr, Vh).vector()\n",
    "\n",
    "\n",
    "\n",
    "\n",
    "\n",
    "\n",
    "true_initial_condition_predicted=0*true_initial_condition\n",
    "true_initial_condition_original=0*true_initial_condition\n",
    "true_initial_condition_MAP=0*true_initial_condition\n",
    "\n",
    "for i in range(0,len(true_initial_condition)):\n",
    "    true_initial_condition_predicted[i]= y_predicted[i]\n",
    "    true_initial_condition_original[i]=y_original[i]\n",
    "    true_initial_condition_MAP[i]=y_MAP[i]\n",
    "\n",
    "    \n",
    "\n",
    "#COMPARING MAP SOLUTION WITH RANDOMIZED SOLUTION\n",
    "\n",
    "objs = [dl.Function(Vh,true_initial_condition_original),\n",
    "        dl.Function(Vh,true_initial_condition_predicted)]\n",
    "\n",
    "mytitles = [\"MAP SOLUTION\", \"RANDOMIZED SOLUTION\"]\n",
    "nb.multi1_plot(objs, mytitles)\n",
    "plt.show()"
   ]
  },
  {
   "cell_type": "code",
   "execution_count": null,
   "id": "49ff8e07",
   "metadata": {},
   "outputs": [],
   "source": []
  }
 ],
 "metadata": {
  "kernelspec": {
   "display_name": "Python 3",
   "language": "python",
   "name": "python3"
  },
  "language_info": {
   "codemirror_mode": {
    "name": "ipython",
    "version": 3
   },
   "file_extension": ".py",
   "mimetype": "text/x-python",
   "name": "python",
   "nbconvert_exporter": "python",
   "pygments_lexer": "ipython3",
   "version": "3.9.2"
  }
 },
 "nbformat": 4,
 "nbformat_minor": 5
}
